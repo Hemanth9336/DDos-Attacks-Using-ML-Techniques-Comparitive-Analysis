{
  "nbformat": 4,
  "nbformat_minor": 0,
  "metadata": {
    "colab": {
      "name": "accuracy.ipynb",
      "provenance": [],
      "collapsed_sections": [],
      "toc_visible": true,
      "include_colab_link": true
    },
    "kernelspec": {
      "name": "python3",
      "display_name": "Python 3"
    },
    "language_info": {
      "name": "python"
    }
  },
  "cells": [
    {
      "cell_type": "markdown",
      "metadata": {
        "id": "view-in-github",
        "colab_type": "text"
      },
      "source": [
        "<a href=\"https://colab.research.google.com/github/Hemanth9336/DDos-Attacks-Using-ML-Techniques-Comparitive-Analysis/blob/main/accuracy.ipynb\" target=\"_parent\"><img src=\"https://colab.research.google.com/assets/colab-badge.svg\" alt=\"Open In Colab\"/></a>"
      ]
    },
    {
      "cell_type": "code",
      "metadata": {
        "id": "MYqq-S13qtIM"
      },
      "source": [
        "import numpy as np \n",
        "import pandas as pd \n",
        "import matplotlib.pyplot as plt\n",
        "import seaborn as sns\n",
        "import itertools\n",
        "import random\n",
        "\n",
        "# model imports\n",
        "from sklearn.ensemble import RandomForestClassifier\n",
        "from sklearn.neighbors import KNeighborsClassifier\n",
        "from sklearn.linear_model import LogisticRegression\n",
        "\n",
        "# processing imports\n",
        "from sklearn.preprocessing import LabelEncoder\n",
        "from sklearn.model_selection import train_test_split\n",
        "from sklearn.model_selection import cross_val_score\n",
        "from sklearn.metrics import mean_absolute_error\n",
        "from sklearn.metrics import accuracy_score\n",
        "from sklearn.metrics import confusion_matrix\n",
        "\n",
        "from sklearn.datasets import make_classification\n",
        "from sklearn.metrics import roc_curve\n",
        "from sklearn.metrics import roc_auc_score\n",
        "\n"
      ],
      "execution_count": null,
      "outputs": []
    },
    {
      "cell_type": "code",
      "metadata": {
        "id": "uEoS5_H_rYcE"
      },
      "source": [
        "# fetch the training file\n",
        "file_path_20_percent = '/content/drive/MyDrive/kdd/KDDTrain+_20Percent.txt'\n",
        "file_path_full_training_set = '/content/drive/MyDrive/kdd/KDDTrain+.txt'\n",
        "file_path_test = '/content/drive/MyDrive/kdd/KDDTest+.txt' \n",
        "\n",
        "df = pd.read_csv(file_path_20_percent)\n",
        "df = pd.read_csv(file_path_full_training_set)\n",
        "test_df = pd.read_csv(file_path_test)"
      ],
      "execution_count": null,
      "outputs": []
    },
    {
      "cell_type": "code",
      "metadata": {
        "colab": {
          "base_uri": "https://localhost:8080/"
        },
        "id": "pBMPbL9qy0bR",
        "outputId": "eaea7231-58d0-4cc5-acce-723a91484357"
      },
      "source": [
        "columns = (['duration'\n",
        ",'protocol_type'\n",
        ",'service'\n",
        ",'flag'\n",
        ",'src_bytes'\n",
        ",'dst_bytes'\n",
        ",'land'\n",
        ",'wrong_fragment'\n",
        ",'urgent'\n",
        ",'hot'\n",
        ",'num_failed_logins'\n",
        ",'logged_in'\n",
        ",'num_compromised'\n",
        ",'root_shell'\n",
        ",'su_attempted'\n",
        ",'num_root'\n",
        ",'num_file_creations'\n",
        ",'num_shells'\n",
        ",'num_access_files'\n",
        ",'num_outbound_cmds'\n",
        ",'is_host_login'\n",
        ",'is_guest_login'\n",
        ",'count'\n",
        ",'srv_count'\n",
        ",'serror_rate'\n",
        ",'srv_serror_rate'\n",
        ",'rerror_rate'\n",
        ",'srv_rerror_rate'\n",
        ",'same_srv_rate'\n",
        ",'diff_srv_rate'\n",
        ",'srv_diff_host_rate'\n",
        ",'dst_host_count'\n",
        ",'dst_host_srv_count'\n",
        ",'dst_host_same_srv_rate'\n",
        ",'dst_host_diff_srv_rate'\n",
        ",'dst_host_same_src_port_rate'\n",
        ",'dst_host_srv_diff_host_rate'\n",
        ",'dst_host_serror_rate'\n",
        ",'dst_host_srv_serror_rate'\n",
        ",'dst_host_rerror_rate'\n",
        ",'dst_host_srv_rerror_rate'\n",
        ",'attack'\n",
        ",'level'])\n",
        "#  add columns names to dataframe\n",
        "df.columns = columns\n",
        "\n",
        "#  to change attack feature to numeric type\n",
        "is_attack = df.attack.map(lambda a: 0 if a == 'normal' else 1)\n",
        "df['attack_flag'] = is_attack\n",
        "print(df.head())"
      ],
      "execution_count": null,
      "outputs": [
        {
          "output_type": "stream",
          "text": [
            "   duration protocol_type  service  ...   attack  level  attack_flag\n",
            "0         0           udp    other  ...   normal     15            0\n",
            "1         0           tcp  private  ...  neptune     19            1\n",
            "2         0           tcp     http  ...   normal     21            0\n",
            "3         0           tcp     http  ...   normal     21            0\n",
            "4         0           tcp  private  ...  neptune     21            1\n",
            "\n",
            "[5 rows x 44 columns]\n"
          ],
          "name": "stdout"
        }
      ]
    },
    {
      "cell_type": "code",
      "metadata": {
        "id": "qLNvU8dAy55s",
        "colab": {
          "base_uri": "https://localhost:8080/"
        },
        "outputId": "737540e2-e21b-48ed-a6e2-40d760f7464e"
      },
      "source": [
        "#  to encode non-numeric features \n",
        "\n",
        "features_to_encode = ['protocol_type', 'service', 'flag']\n",
        "encoded = pd.get_dummies(df[features_to_encode])\n",
        "print(encoded.head())\n",
        "#  names of selected numeric features \n",
        "numeric_features = ['duration', 'src_bytes', 'dst_bytes','count','serror_rate','srv_serror_rate','dst_host_serror_rate','dst_host_srv_serror_rate']\n",
        "to_fit = encoded.join(df[numeric_features]) ## joining numeric and non numeric features \n",
        "\n",
        "detected = df['attack_flag']  # taking output column\n",
        "\n",
        "# splitting data into test and validation(test) set \n",
        "train_X, val_X, train_y, val_y = train_test_split(to_fit, detected, test_size=0.6)"
      ],
      "execution_count": null,
      "outputs": [
        {
          "output_type": "stream",
          "text": [
            "   protocol_type_icmp  protocol_type_tcp  ...  flag_SF  flag_SH\n",
            "0                   0                  0  ...        1        0\n",
            "1                   0                  1  ...        0        0\n",
            "2                   0                  1  ...        1        0\n",
            "3                   0                  1  ...        1        0\n",
            "4                   0                  1  ...        0        0\n",
            "\n",
            "[5 rows x 84 columns]\n"
          ],
          "name": "stdout"
        }
      ]
    },
    {
      "cell_type": "code",
      "metadata": {
        "colab": {
          "base_uri": "https://localhost:8080/"
        },
        "id": "77HJdUdQy9PR",
        "outputId": "299dea3c-4b37-4a4e-fc64-dd4383eb144b"
      },
      "source": [
        "# model to implement and to calculate accuracy\n",
        "models = [\n",
        "    RandomForestClassifier(),\n",
        "    LogisticRegression(max_iter=250),\n",
        "    KNeighborsClassifier(),\n",
        "]\n",
        "model_comps = [] # to save accuracy at each validation stage for each model \n",
        "\n",
        "for model in models:\n",
        "    model_name = model.__class__.__name__\n",
        "    accuracies = cross_val_score(model, train_X, train_y, scoring='accuracy')\n",
        "    for count, accuracy in enumerate(accuracies):\n",
        "        model_comps.append((model_name, count, accuracy))\n",
        "# Printing accuracies \n",
        "for i in model_comps:\n",
        "  print(i)"
      ],
      "execution_count": null,
      "outputs": [
        {
          "output_type": "stream",
          "text": [
            "('RandomForestClassifier', 0, 0.9978170271879341)\n",
            "('RandomForestClassifier', 1, 0.9983131573724946)\n",
            "('RandomForestClassifier', 2, 0.9987100615201429)\n",
            "('RandomForestClassifier', 3, 0.997816810558698)\n",
            "('RandomForestClassifier', 4, 0.9992061129304356)\n",
            "('LogisticRegression', 0, 0.46824766818813257)\n",
            "('LogisticRegression', 1, 0.46824766818813257)\n",
            "('LogisticRegression', 2, 0.46834689422504466)\n",
            "('LogisticRegression', 3, 0.46849260692666467)\n",
            "('LogisticRegression', 4, 0.5295226753994244)\n",
            "('KNeighborsClassifier', 0, 0.9938479857114507)\n",
            "('KNeighborsClassifier', 1, 0.9937487596745386)\n",
            "('KNeighborsClassifier', 2, 0.9954356023020441)\n",
            "('KNeighborsClassifier', 3, 0.9942443187456584)\n",
            "('KNeighborsClassifier', 4, 0.9948397340478317)\n"
          ],
          "name": "stdout"
        }
      ]
    },
    {
      "cell_type": "code",
      "metadata": {
        "id": "5WNxQG4NQPr2",
        "colab": {
          "base_uri": "https://localhost:8080/"
        },
        "outputId": "d40d56f7-3812-48fc-b518-b03c7f869088"
      },
      "source": [
        "#LogisticRegression Model \n",
        "clf = LogisticRegression(max_iter=250)\n",
        "clf = clf.fit(train_X, train_y)  \n",
        "clf_predictions = clf.predict(val_X) \n",
        "clf_score = accuracy_score(clf_predictions,val_y)  \n",
        "print(\"Testing accuracy is:\", clf_score)"
      ],
      "execution_count": null,
      "outputs": [
        {
          "output_type": "stream",
          "text": [
            "Testing accuracy is: 0.4635372565622354\n"
          ],
          "name": "stdout"
        }
      ]
    },
    {
      "cell_type": "code",
      "metadata": {
        "colab": {
          "base_uri": "https://localhost:8080/",
          "height": 330
        },
        "id": "6OvReHvXZRpu",
        "outputId": "a636e650-d759-4aec-ff8f-8098776be1b3"
      },
      "source": [
        "#ROC curve\n",
        "ns_probs = [0 for _ in range(len(val_y))] #array of 0's of lenght val_y\n",
        "lr_probs = clf.predict_proba(val_X) #predicted values of val_x\n",
        "# print(lr_probs)\n",
        "# keep probabilities for the positive outcome only\n",
        "lr_probs = lr_probs[:, 1] \n",
        "print(lr_probs)\n",
        "# calculate scores\n",
        "ns_auc = roc_auc_score(val_y, ns_probs) #comparing\n",
        "lr_auc = roc_auc_score(val_y, lr_probs) \n",
        "# summarize scores\n",
        "print('No Skill: ROC AUC=%.3f' % (ns_auc))\n",
        "print('Logistic: ROC AUC=%.3f' % (lr_auc))\n",
        "# calculate roc curves\n",
        "ns_fpr, ns_tpr, _ = roc_curve(val_y, ns_probs)\n",
        "lr_fpr, lr_tpr, _ = roc_curve(val_y, lr_probs)\n",
        "# plot the roc curve for the model\n",
        "plt.plot(ns_fpr, ns_tpr, linestyle='--', label='No Skill')\n",
        "plt.plot(lr_fpr, lr_tpr, marker='.', label='Logistic')\n",
        "# axis labels\n",
        "plt.xlabel('False Positive Rate')\n",
        "plt.ylabel('True Positive Rate')\n",
        "# show the legend\n",
        "plt.legend()\n",
        "# show the plot\n",
        "plt.show()"
      ],
      "execution_count": null,
      "outputs": [
        {
          "output_type": "stream",
          "text": [
            "[0.50225203 0.99038085 0.67180662 ... 0.54744952 0.89303122 0.50224706]\n",
            "No Skill: ROC AUC=0.500\n",
            "Logistic: ROC AUC=0.835\n"
          ],
          "name": "stdout"
        },
        {
          "output_type": "display_data",
          "data": {
            "image/png": "[encoded data removed]",
            "text/plain": [
              "<Figure size 432x288 with 1 Axes>"
            ]
          },
          "metadata": {
            "tags": [],
            "needs_background": "light"
          }
        }
      ]
    },
    {
      "cell_type": "code",
      "metadata": {
        "colab": {
          "base_uri": "https://localhost:8080/"
        },
        "id": "yRLTw6BXXDC2",
        "outputId": "196187fe-8666-476c-ae7f-cb719ba99ff8"
      },
      "source": [
        "from xgboost import XGBRegressor\n",
        "\n",
        "from sklearn.metrics import mean_absolute_error\n",
        "\n",
        "my_model = XGBRegressor(objective ='reg:logistic',gamma=0.001,eta=0.5,\n",
        "                        reg_alpha=0,reg_lambda=0,ntrees=10,sample_rate=0.9,max_depth=9)\n",
        "# my_model = XGBRegressor()\n",
        "my_model = my_model.fit(train_X, train_y)\n",
        "\n",
        "score = my_model.score(val_X,val_y)  \n",
        "print(\"Testing accuracy is:\", score)"
      ],
      "execution_count": null,
      "outputs": [
        {
          "output_type": "stream",
          "text": [
            "Testing accuracy is: 0.9933180073688387\n"
          ],
          "name": "stdout"
        }
      ]
    }
  ]
}